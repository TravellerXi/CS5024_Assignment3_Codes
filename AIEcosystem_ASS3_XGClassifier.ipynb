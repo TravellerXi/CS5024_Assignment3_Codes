{
  "nbformat": 4,
  "nbformat_minor": 0,
  "metadata": {
    "colab": {
      "provenance": [],
      "authorship_tag": "ABX9TyPQjIMBJJtwvNZehp1DLyj1",
      "include_colab_link": true
    },
    "kernelspec": {
      "name": "python3",
      "display_name": "Python 3"
    },
    "language_info": {
      "name": "python"
    }
  },
  "cells": [
    {
      "cell_type": "markdown",
      "metadata": {
        "id": "view-in-github",
        "colab_type": "text"
      },
      "source": [
        "<a href=\"https://colab.research.google.com/github/TravellerXi/CS5024_Assignment3_Codes/blob/main/AIEcosystem_ASS3_XGClassifier.ipynb\" target=\"_parent\"><img src=\"https://colab.research.google.com/assets/colab-badge.svg\" alt=\"Open In Colab\"/></a>"
      ]
    },
    {
      "cell_type": "code",
      "source": [
        "!pip install cbor\n",
        "!pip install xgboost"
      ],
      "metadata": {
        "colab": {
          "base_uri": "https://localhost:8080/"
        },
        "id": "ZPWpUK8v3pXJ",
        "outputId": "46004150-0861-4b2f-c3de-f915a06afaee"
      },
      "execution_count": null,
      "outputs": [
        {
          "output_type": "stream",
          "name": "stdout",
          "text": [
            "Looking in indexes: https://pypi.org/simple, https://us-python.pkg.dev/colab-wheels/public/simple/\n",
            "Requirement already satisfied: cbor in /usr/local/lib/python3.10/dist-packages (1.0.0)\n",
            "Looking in indexes: https://pypi.org/simple, https://us-python.pkg.dev/colab-wheels/public/simple/\n",
            "Requirement already satisfied: xgboost in /usr/local/lib/python3.10/dist-packages (1.7.5)\n",
            "Requirement already satisfied: scipy in /usr/local/lib/python3.10/dist-packages (from xgboost) (1.10.1)\n",
            "Requirement already satisfied: numpy in /usr/local/lib/python3.10/dist-packages (from xgboost) (1.22.4)\n"
          ]
        }
      ]
    },
    {
      "cell_type": "code",
      "execution_count": null,
      "metadata": {
        "id": "hy2CLjzf0NVz"
      },
      "outputs": [],
      "source": [
        "import os\n",
        "import pandas as pd\n",
        "import cbor\n",
        "from google.colab import drive, files\n",
        "import numpy as np\n",
        "from sklearn.preprocessing import LabelEncoder\n",
        "from sklearn.model_selection import train_test_split\n",
        "import xgboost as xgb\n",
        "from sklearn.metrics import accuracy_score\n",
        "import seaborn as sns\n",
        "import matplotlib.pyplot as plt\n",
        "from sklearn.metrics import confusion_matrix"
      ]
    },
    {
      "cell_type": "markdown",
      "source": [],
      "metadata": {
        "id": "yoXUkKmkvwu-"
      }
    },
    {
      "cell_type": "code",
      "source": [
        "drive.mount('/content/drive', force_remount=True)"
      ],
      "metadata": {
        "colab": {
          "base_uri": "https://localhost:8080/"
        },
        "id": "KBfMDrMW2pYu",
        "outputId": "fc9d3d93-324e-4342-aa99-604e24010ebd"
      },
      "execution_count": null,
      "outputs": [
        {
          "output_type": "stream",
          "name": "stdout",
          "text": [
            "Mounted at /content/drive\n"
          ]
        }
      ]
    },
    {
      "cell_type": "code",
      "source": [
        "PATH = \"/content/drive/My Drive/Colab Notebooks/ai_ecosystems_data_ass3/\"   \n",
        "\n",
        "def fetch_xray_data(path=PATH):\n",
        "  if os.path.exists(PATH):\n",
        "    print('directory already exists')\n",
        "  else:\n",
        "    os.makedirs(PATH)\n",
        "    upload = files.upload()\n",
        "\n",
        "  # change directory to 'grape'\n",
        "  %cd /content/drive/My Drive/Colab Notebooks/ai_ecosystems_data_ass3/\n",
        "\n",
        "\n",
        "fetch_xray_data()"
      ],
      "metadata": {
        "colab": {
          "base_uri": "https://localhost:8080/"
        },
        "id": "UBPkI7cK2oaz",
        "outputId": "3389cc34-a95c-4009-f999-a07418030420"
      },
      "execution_count": null,
      "outputs": [
        {
          "output_type": "stream",
          "name": "stdout",
          "text": [
            "directory already exists\n",
            "/content/drive/My Drive/Colab Notebooks/ai_ecosystems_data_ass3\n"
          ]
        }
      ]
    },
    {
      "cell_type": "code",
      "source": [
        "def print_cbor_file_content(filepath):\n",
        "    with open(filepath, 'rb') as f:\n",
        "        data = cbor.load(f)\n",
        "    print(data)\n",
        "\n",
        "cbor_file_path = PATH + 'john_training_data/JA_CL_R1_LW.3topu6jr.ingestion-76b9544989-76nps.cbor'\n",
        "print_cbor_file_content(cbor_file_path)"
      ],
      "metadata": {
        "id": "PGmvI4Tb5ftq"
      },
      "execution_count": null,
      "outputs": []
    },
    {
      "cell_type": "code",
      "source": [
        "# Method: get_instrument_name\n",
        "# Inputs: df:Table\n",
        "# Output: res: dict\n",
        "def get_instrument_name(code):\n",
        "    instrument_map = {\n",
        "        'REC': 'Recorder',\n",
        "        'GUI': 'Guitar',\n",
        "        'ACC': 'Accordion',\n",
        "        'VL': 'Violin',\n",
        "        'CL': 'Cello',\n",
        "        'KEY': 'Keyboard',\n",
        "        'FLU': 'Flute',\n",
        "        'CON': 'Concertina',\n",
        "    }\n",
        "    return instrument_map.get(code, 'Unknown')\n"
      ],
      "metadata": {
        "id": "wt8sIiRl7rh1"
      },
      "execution_count": null,
      "outputs": []
    },
    {
      "cell_type": "code",
      "source": [
        "# Method: load_cbor_file\n",
        "# Inputs: data:Text\n",
        "# Output: df:Table\n",
        "def load_cbor_file(filepath):\n",
        "    with open(filepath, 'rb') as f:\n",
        "        data = cbor.load(f)\n",
        "\n",
        "    payload = data['payload']\n",
        "    values = payload['values']\n",
        "    df = pd.DataFrame(values, columns=['x', 'y', 'z'])\n",
        "    filename = os.path.splitext(os.path.basename(filepath))[0]\n",
        "    df['filename'] = filename\n",
        "    df['instrument'] = df['filename'].str[3:6].apply(get_instrument_name)\n",
        "\n",
        "    return df"
      ],
      "metadata": {
        "id": "GjnS2Wic0TcQ"
      },
      "execution_count": null,
      "outputs": []
    },
    {
      "cell_type": "code",
      "source": [
        "# Method: load_data_from_subfolders\n",
        "# Inputs: path:Text\n",
        "# Output: combined_data:Table\n",
        "def load_data_from_subfolders(main_folder):\n",
        "    all_data = []\n",
        "\n",
        "    for subdir, dirs, files in os.walk(main_folder):\n",
        "        for file in files:\n",
        "            if file.endswith('.cbor'):\n",
        "                filepath = os.path.join(subdir, file)\n",
        "                print(f'Loading data from {filepath}')\n",
        "                df = load_cbor_file(filepath)\n",
        "                all_data.append(df)\n",
        "\n",
        "    combined_data = pd.concat(all_data, ignore_index=True)\n",
        "    return combined_data"
      ],
      "metadata": {
        "id": "s6g2iJgr0XRE"
      },
      "execution_count": null,
      "outputs": []
    },
    {
      "cell_type": "code",
      "source": [
        "data = load_data_from_subfolders(PATH)\n",
        "data.head()"
      ],
      "metadata": {
        "colab": {
          "base_uri": "https://localhost:8080/",
          "height": 748
        },
        "id": "EWjqY_QV0ZhV",
        "outputId": "5e040d72-0bcf-4914-b31b-e4cfe76d6ba0"
      },
      "execution_count": null,
      "outputs": [
        {
          "output_type": "stream",
          "name": "stdout",
          "text": [
            "Loading data from /content/drive/My Drive/Colab Notebooks/ai_ecosystems_data_ass3/david_training_data/DP_REC_R2_WL.cbor.3tno1bna.ingestion-76b9544989-kmcsq.cbor\n",
            "Loading data from /content/drive/My Drive/Colab Notebooks/ai_ecosystems_data_ass3/david_training_data/DP_REC_R1_WR.cbor.3tnofsoe.ingestion-76b9544989-sktbm.cbor\n",
            "Loading data from /content/drive/My Drive/Colab Notebooks/ai_ecosystems_data_ass3/david_training_data/DP_GUI_R1_WR.cbor.3tnlsv8m.ingestion-76b9544989-sktbm.cbor\n",
            "Loading data from /content/drive/My Drive/Colab Notebooks/ai_ecosystems_data_ass3/david_training_data/DP_REC_R1_WL.cbor.3tnnkoqe.ingestion-76b9544989-76nps.cbor\n",
            "Loading data from /content/drive/My Drive/Colab Notebooks/ai_ecosystems_data_ass3/david_training_data/DP_GUI_R2_WR.cbor.3tnmb4e1.ingestion-76b9544989-kmcsq.cbor\n",
            "Loading data from /content/drive/My Drive/Colab Notebooks/ai_ecosystems_data_ass3/david_training_data/DP_REC_R2_WR.cbor.3tnosgdn.ingestion-76b9544989-kmcsq.cbor\n",
            "Loading data from /content/drive/My Drive/Colab Notebooks/ai_ecosystems_data_ass3/david_training_data/DP_GUI_R1_WL.cbor.3tnmrfnp.ingestion-76b9544989-sktbm.cbor\n",
            "Loading data from /content/drive/My Drive/Colab Notebooks/ai_ecosystems_data_ass3/david_training_data/DP_GUI_R2_WL.cbor.3tnn7o48.ingestion-76b9544989-sktbm.cbor\n",
            "Loading data from /content/drive/My Drive/Colab Notebooks/ai_ecosystems_data_ass3/chloe_training_data/CM_ACC_R2_LW.cbor.3tlquooh.ingestion-659dd95bb6-zzm6m.cbor\n",
            "Loading data from /content/drive/My Drive/Colab Notebooks/ai_ecosystems_data_ass3/chloe_training_data/CM_ACC_R1_LW.cbor.3tlq5776.ingestion-659dd95bb6-cmvx4.cbor\n",
            "Loading data from /content/drive/My Drive/Colab Notebooks/ai_ecosystems_data_ass3/chloe_training_data/CM_CON_R2_LW.cbor.3tlp0s15.ingestion-659dd95bb6-cmvx4.cbor\n",
            "Loading data from /content/drive/My Drive/Colab Notebooks/ai_ecosystems_data_ass3/chloe_training_data/CM_CON_R1_RW.cbor.3tlnnesq.ingestion-659dd95bb6-cmvx4.cbor\n",
            "Loading data from /content/drive/My Drive/Colab Notebooks/ai_ecosystems_data_ass3/chloe_training_data/CM_ACC_R2_RW.cbor.3tlqihjj.ingestion-659dd95bb6-cmvx4.cbor\n",
            "Loading data from /content/drive/My Drive/Colab Notebooks/ai_ecosystems_data_ass3/chloe_training_data/CM_ACC_R1_RW.cbor.3tlpqflm.ingestion-659dd95bb6-5vn96.cbor\n",
            "Loading data from /content/drive/My Drive/Colab Notebooks/ai_ecosystems_data_ass3/chloe_training_data/CM_CON_R2_RW.cbor.3tlpbhst.ingestion-659dd95bb6-zzm6m.cbor\n",
            "Loading data from /content/drive/My Drive/Colab Notebooks/ai_ecosystems_data_ass3/chloe_training_data/CM_CON_R1_LW.cbor.3tlom050.ingestion-659dd95bb6-5vn96.cbor\n",
            "Loading data from /content/drive/My Drive/Colab Notebooks/ai_ecosystems_data_ass3/john_training_data/JA_VL_R1_RW.3tonf25v.ingestion-76b9544989-sktbm.cbor\n",
            "Loading data from /content/drive/My Drive/Colab Notebooks/ai_ecosystems_data_ass3/john_training_data/JA_CL_R2_RW.3toopqe3.ingestion-76b9544989-sktbm.cbor\n",
            "Loading data from /content/drive/My Drive/Colab Notebooks/ai_ecosystems_data_ass3/john_training_data/JA_CL_R2_LW.3toqh5dq.ingestion-76b9544989-kmcsq.cbor\n",
            "Loading data from /content/drive/My Drive/Colab Notebooks/ai_ecosystems_data_ass3/john_training_data/JA_VL_R1_LW.3top794u.ingestion-76b9544989-sktbm.cbor\n",
            "Loading data from /content/drive/My Drive/Colab Notebooks/ai_ecosystems_data_ass3/john_training_data/JA_VL_R2_RW.3tontd44.ingestion-76b9544989-76nps.cbor\n",
            "Loading data from /content/drive/My Drive/Colab Notebooks/ai_ecosystems_data_ass3/john_training_data/JA_VL_R2_LW.3topih01.ingestion-76b9544989-sktbm.cbor\n",
            "Loading data from /content/drive/My Drive/Colab Notebooks/ai_ecosystems_data_ass3/john_training_data/JA_CL_R1_LW.3topu6jr.ingestion-76b9544989-76nps.cbor\n",
            "Loading data from /content/drive/My Drive/Colab Notebooks/ai_ecosystems_data_ass3/john_training_data/JA_CL_R1_RW.3toocivl.ingestion-76b9544989-kmcsq.cbor\n",
            "Loading data from /content/drive/My Drive/Colab Notebooks/ai_ecosystems_data_ass3/xi_training_data/XY_KEY_R1_WR.3tnrvjgk.ingestion-76b9544989-76nps.cbor\n",
            "Loading data from /content/drive/My Drive/Colab Notebooks/ai_ecosystems_data_ass3/xi_training_data/XY_KEY_R1_WL.3tnqk32r.ingestion-76b9544989-76nps.cbor\n",
            "Loading data from /content/drive/My Drive/Colab Notebooks/ai_ecosystems_data_ass3/xi_training_data/XY_FLU_R2_WL.3to0k8k7.ingestion-76b9544989-sktbm.cbor\n",
            "Loading data from /content/drive/My Drive/Colab Notebooks/ai_ecosystems_data_ass3/xi_training_data/XY_FLU_R1_WL.3to09uel.ingestion-76b9544989-76nps.cbor\n",
            "Loading data from /content/drive/My Drive/Colab Notebooks/ai_ecosystems_data_ass3/xi_training_data/XY_FLU_R1_WR.3to0vshn.ingestion-76b9544989-kmcsq.cbor\n",
            "Loading data from /content/drive/My Drive/Colab Notebooks/ai_ecosystems_data_ass3/xi_training_data/XY_FLU_R2_WR.3to19ui8.ingestion-76b9544989-sktbm.cbor\n",
            "Loading data from /content/drive/My Drive/Colab Notebooks/ai_ecosystems_data_ass3/xi_training_data/XY_KEY_R2_WR.3tns9omk.ingestion-76b9544989-76nps.cbor\n",
            "Loading data from /content/drive/My Drive/Colab Notebooks/ai_ecosystems_data_ass3/xi_training_data/XY_KEY_R2_WL.3tnrjcg9.ingestion-76b9544989-sktbm.cbor\n"
          ]
        },
        {
          "output_type": "execute_result",
          "data": {
            "text/plain": [
              "          x         y         z  \\\n",
              "0 -2.794895  6.884268 -4.511059   \n",
              "1 -2.745862  6.825428 -4.354152   \n",
              "2 -2.755668  6.825428 -4.265892   \n",
              "3 -2.755668  6.933301 -4.324732   \n",
              "4 -2.834121  6.982334 -4.520865   \n",
              "\n",
              "                                            filename instrument  \n",
              "0  DP_REC_R2_WL.cbor.3tno1bna.ingestion-76b954498...   Recorder  \n",
              "1  DP_REC_R2_WL.cbor.3tno1bna.ingestion-76b954498...   Recorder  \n",
              "2  DP_REC_R2_WL.cbor.3tno1bna.ingestion-76b954498...   Recorder  \n",
              "3  DP_REC_R2_WL.cbor.3tno1bna.ingestion-76b954498...   Recorder  \n",
              "4  DP_REC_R2_WL.cbor.3tno1bna.ingestion-76b954498...   Recorder  "
            ],
            "text/html": [
              "\n",
              "  <div id=\"df-9091ae73-0f76-49e2-921e-3535e5e7fc90\">\n",
              "    <div class=\"colab-df-container\">\n",
              "      <div>\n",
              "<style scoped>\n",
              "    .dataframe tbody tr th:only-of-type {\n",
              "        vertical-align: middle;\n",
              "    }\n",
              "\n",
              "    .dataframe tbody tr th {\n",
              "        vertical-align: top;\n",
              "    }\n",
              "\n",
              "    .dataframe thead th {\n",
              "        text-align: right;\n",
              "    }\n",
              "</style>\n",
              "<table border=\"1\" class=\"dataframe\">\n",
              "  <thead>\n",
              "    <tr style=\"text-align: right;\">\n",
              "      <th></th>\n",
              "      <th>x</th>\n",
              "      <th>y</th>\n",
              "      <th>z</th>\n",
              "      <th>filename</th>\n",
              "      <th>instrument</th>\n",
              "    </tr>\n",
              "  </thead>\n",
              "  <tbody>\n",
              "    <tr>\n",
              "      <th>0</th>\n",
              "      <td>-2.794895</td>\n",
              "      <td>6.884268</td>\n",
              "      <td>-4.511059</td>\n",
              "      <td>DP_REC_R2_WL.cbor.3tno1bna.ingestion-76b954498...</td>\n",
              "      <td>Recorder</td>\n",
              "    </tr>\n",
              "    <tr>\n",
              "      <th>1</th>\n",
              "      <td>-2.745862</td>\n",
              "      <td>6.825428</td>\n",
              "      <td>-4.354152</td>\n",
              "      <td>DP_REC_R2_WL.cbor.3tno1bna.ingestion-76b954498...</td>\n",
              "      <td>Recorder</td>\n",
              "    </tr>\n",
              "    <tr>\n",
              "      <th>2</th>\n",
              "      <td>-2.755668</td>\n",
              "      <td>6.825428</td>\n",
              "      <td>-4.265892</td>\n",
              "      <td>DP_REC_R2_WL.cbor.3tno1bna.ingestion-76b954498...</td>\n",
              "      <td>Recorder</td>\n",
              "    </tr>\n",
              "    <tr>\n",
              "      <th>3</th>\n",
              "      <td>-2.755668</td>\n",
              "      <td>6.933301</td>\n",
              "      <td>-4.324732</td>\n",
              "      <td>DP_REC_R2_WL.cbor.3tno1bna.ingestion-76b954498...</td>\n",
              "      <td>Recorder</td>\n",
              "    </tr>\n",
              "    <tr>\n",
              "      <th>4</th>\n",
              "      <td>-2.834121</td>\n",
              "      <td>6.982334</td>\n",
              "      <td>-4.520865</td>\n",
              "      <td>DP_REC_R2_WL.cbor.3tno1bna.ingestion-76b954498...</td>\n",
              "      <td>Recorder</td>\n",
              "    </tr>\n",
              "  </tbody>\n",
              "</table>\n",
              "</div>\n",
              "      <button class=\"colab-df-convert\" onclick=\"convertToInteractive('df-9091ae73-0f76-49e2-921e-3535e5e7fc90')\"\n",
              "              title=\"Convert this dataframe to an interactive table.\"\n",
              "              style=\"display:none;\">\n",
              "        \n",
              "  <svg xmlns=\"http://www.w3.org/2000/svg\" height=\"24px\"viewBox=\"0 0 24 24\"\n",
              "       width=\"24px\">\n",
              "    <path d=\"M0 0h24v24H0V0z\" fill=\"none\"/>\n",
              "    <path d=\"M18.56 5.44l.94 2.06.94-2.06 2.06-.94-2.06-.94-.94-2.06-.94 2.06-2.06.94zm-11 1L8.5 8.5l.94-2.06 2.06-.94-2.06-.94L8.5 2.5l-.94 2.06-2.06.94zm10 10l.94 2.06.94-2.06 2.06-.94-2.06-.94-.94-2.06-.94 2.06-2.06.94z\"/><path d=\"M17.41 7.96l-1.37-1.37c-.4-.4-.92-.59-1.43-.59-.52 0-1.04.2-1.43.59L10.3 9.45l-7.72 7.72c-.78.78-.78 2.05 0 2.83L4 21.41c.39.39.9.59 1.41.59.51 0 1.02-.2 1.41-.59l7.78-7.78 2.81-2.81c.8-.78.8-2.07 0-2.86zM5.41 20L4 18.59l7.72-7.72 1.47 1.35L5.41 20z\"/>\n",
              "  </svg>\n",
              "      </button>\n",
              "      \n",
              "  <style>\n",
              "    .colab-df-container {\n",
              "      display:flex;\n",
              "      flex-wrap:wrap;\n",
              "      gap: 12px;\n",
              "    }\n",
              "\n",
              "    .colab-df-convert {\n",
              "      background-color: #E8F0FE;\n",
              "      border: none;\n",
              "      border-radius: 50%;\n",
              "      cursor: pointer;\n",
              "      display: none;\n",
              "      fill: #1967D2;\n",
              "      height: 32px;\n",
              "      padding: 0 0 0 0;\n",
              "      width: 32px;\n",
              "    }\n",
              "\n",
              "    .colab-df-convert:hover {\n",
              "      background-color: #E2EBFA;\n",
              "      box-shadow: 0px 1px 2px rgba(60, 64, 67, 0.3), 0px 1px 3px 1px rgba(60, 64, 67, 0.15);\n",
              "      fill: #174EA6;\n",
              "    }\n",
              "\n",
              "    [theme=dark] .colab-df-convert {\n",
              "      background-color: #3B4455;\n",
              "      fill: #D2E3FC;\n",
              "    }\n",
              "\n",
              "    [theme=dark] .colab-df-convert:hover {\n",
              "      background-color: #434B5C;\n",
              "      box-shadow: 0px 1px 3px 1px rgba(0, 0, 0, 0.15);\n",
              "      filter: drop-shadow(0px 1px 2px rgba(0, 0, 0, 0.3));\n",
              "      fill: #FFFFFF;\n",
              "    }\n",
              "  </style>\n",
              "\n",
              "      <script>\n",
              "        const buttonEl =\n",
              "          document.querySelector('#df-9091ae73-0f76-49e2-921e-3535e5e7fc90 button.colab-df-convert');\n",
              "        buttonEl.style.display =\n",
              "          google.colab.kernel.accessAllowed ? 'block' : 'none';\n",
              "\n",
              "        async function convertToInteractive(key) {\n",
              "          const element = document.querySelector('#df-9091ae73-0f76-49e2-921e-3535e5e7fc90');\n",
              "          const dataTable =\n",
              "            await google.colab.kernel.invokeFunction('convertToInteractive',\n",
              "                                                     [key], {});\n",
              "          if (!dataTable) return;\n",
              "\n",
              "          const docLinkHtml = 'Like what you see? Visit the ' +\n",
              "            '<a target=\"_blank\" href=https://colab.research.google.com/notebooks/data_table.ipynb>data table notebook</a>'\n",
              "            + ' to learn more about interactive tables.';\n",
              "          element.innerHTML = '';\n",
              "          dataTable['output_type'] = 'display_data';\n",
              "          await google.colab.output.renderOutput(dataTable, element);\n",
              "          const docLink = document.createElement('div');\n",
              "          docLink.innerHTML = docLinkHtml;\n",
              "          element.appendChild(docLink);\n",
              "        }\n",
              "      </script>\n",
              "    </div>\n",
              "  </div>\n",
              "  "
            ]
          },
          "metadata": {},
          "execution_count": 9
        }
      ]
    },
    {
      "cell_type": "code",
      "source": [
        "data['instrument'].unique()"
      ],
      "metadata": {
        "colab": {
          "base_uri": "https://localhost:8080/"
        },
        "id": "NiGh-YPo380K",
        "outputId": "64a679d9-06e7-44ee-f4dd-b25f78ac8940"
      },
      "execution_count": null,
      "outputs": [
        {
          "output_type": "execute_result",
          "data": {
            "text/plain": [
              "array(['Recorder', 'Guitar', 'Accordion', 'Concertina', 'Unknown',\n",
              "       'Keyboard', 'Flute'], dtype=object)"
            ]
          },
          "metadata": {},
          "execution_count": 10
        }
      ]
    },
    {
      "cell_type": "code",
      "source": [
        "# Method: create_segments\n",
        "# Inputs: data:Table, window_size:int, step_size:int \n",
        "# Output: res:List\n",
        "def create_segments(data, window_size=100, step_size=50):\n",
        "    segments = []\n",
        "    labels = []\n",
        "    for _, group in data.groupby('filename'):\n",
        "        instrument = group['instrument'].iloc[0]\n",
        "        for i in range(0, len(group) - window_size + 1, step_size):\n",
        "            segment = group[['x', 'y', 'z']].iloc[i:i + window_size].to_numpy()\n",
        "            segments.append(segment)\n",
        "            labels.append(instrument)\n",
        "    return [np.array(segments), labels]"
      ],
      "metadata": {
        "id": "SF5xlWnGF4NZ"
      },
      "execution_count": null,
      "outputs": []
    },
    {
      "cell_type": "code",
      "source": [
        "# Method: preprocess_data\n",
        "# Inputs: data:Table, window_size:Int, step_size:Int \n",
        "# Output: res:List\n",
        "def preprocess_data(data, window_size=100, step_size=50):\n",
        "    # Drop rows with 'Unknown' instrument\n",
        "    data = data[data['instrument'] != 'Unknown']\n",
        "    \n",
        "    X, y = create_segments(data, window_size, step_size)\n",
        "    X = X.reshape(X.shape[0], -1)  # Flatten the segments for the classifier\n",
        "    label_encoder = LabelEncoder()\n",
        "    y_encoded = label_encoder.fit_transform(y)\n",
        "    return [X, y_encoded, label_encoder]"
      ],
      "metadata": {
        "id": "GEOnHRYu-vO9"
      },
      "execution_count": null,
      "outputs": []
    },
    {
      "cell_type": "code",
      "source": [
        "# Method: train_xgb_classifier\n",
        "# Inputs: X:Table, y:Table\n",
        "# Output: res:List\n",
        "def train_xgb_classifier(X, y):\n",
        "    class RecordEvaluationCallback(xgb.callback.TrainingCallback):\n",
        "        def __init__(self, results):\n",
        "            self.results = results\n",
        "        \n",
        "        def after_iteration(self, model, epoch, evals_log):\n",
        "            self.results[\"validation_0\"] = {metric: evals_log[\"validation_0\"][metric][-1] for metric in evals_log[\"validation_0\"].keys()}\n",
        "            self.results[\"validation_1\"] = {metric: evals_log[\"validation_1\"][metric][-1] for metric in evals_log[\"validation_1\"].keys()}\n",
        "\n",
        "    X_train, X_test, y_train, y_test = train_test_split(X, y, test_size=0.2, random_state=42)\n",
        "    \n",
        "    classifier = xgb.XGBClassifier(eval_metric=['mlogloss', 'merror'], early_stopping_rounds=10)\n",
        "    \n",
        "    eval_set = [(X_train, y_train), (X_test, y_test)]\n",
        "    eval_result = {}\n",
        "    classifier.fit(X_train, y_train, eval_set=eval_set, verbose=False, callbacks=[RecordEvaluationCallback(eval_result)])\n",
        "    \n",
        "    y_pred = classifier.predict(X_test)\n",
        "    score = accuracy_score(y_test, y_pred)\n",
        "    \n",
        "    return [classifier, y_pred, y_test, score, eval_result]\n"
      ],
      "metadata": {
        "id": "vqkmDT_W-z_x"
      },
      "execution_count": null,
      "outputs": []
    },
    {
      "cell_type": "code",
      "source": [
        "# Method: plot_confusion_matrix\n",
        "# Inputs: y_true:Table, y_pred:List, labels:List\n",
        "def plot_confusion_matrix(y_true, y_pred, labels, figsize=(10, 8)):\n",
        "    cm = confusion_matrix(y_true, y_pred)\n",
        "    df_cm = pd.DataFrame(cm, index=labels, columns=labels)\n",
        "    \n",
        "    plt.figure(figsize=figsize)\n",
        "    sns.heatmap(df_cm, annot=True, cmap='Blues', fmt='g')\n",
        "    plt.title('Confusion Matrix')\n",
        "    plt.xlabel('Predicted')\n",
        "    plt.ylabel('True')\n",
        "    plt.show()"
      ],
      "metadata": {
        "id": "advk-5bwHZb_"
      },
      "execution_count": null,
      "outputs": []
    },
    {
      "cell_type": "code",
      "source": [
        "# Method: print_accuracy_score\n",
        "# Inputs: score:Float\n",
        "def print_accuracy_score(score):\n",
        "  print(f\"XGBoost Classifier accuracy: {score * 100:.2f}%\")"
      ],
      "metadata": {
        "id": "LHhDF5P_vGPI"
      },
      "execution_count": null,
      "outputs": []
    },
    {
      "cell_type": "code",
      "source": [
        "# Method: run_workflow\n",
        "# Inputs: data:Table, window_size:Int, step_size:Int \n",
        "def run_workflow(data, window_size=100, step_size=50):\n",
        "    preprocess_results = preprocess_data(data, window_size, step_size)\n",
        "    X, y, label_encoder = preprocess_results\n",
        "\n",
        "    results = train_xgb_classifier(X, y)\n",
        "    classifier, y_pred, y_test, score, eval_results = results\n",
        "\n",
        "    print_accuracy_score(score)\n",
        "    plot_confusion_matrix(y_test, y_pred, labels=label_encoder.classes_)"
      ],
      "metadata": {
        "id": "13nCzGze1LZV"
      },
      "execution_count": null,
      "outputs": []
    },
    {
      "cell_type": "code",
      "source": [
        "run_workflow(data, window_size=100, step_size=50)"
      ],
      "metadata": {
        "colab": {
          "base_uri": "https://localhost:8080/",
          "height": 789
        },
        "id": "Utrd9esa-3wY",
        "outputId": "e06d70cb-0742-4607-a842-e880b55a5fe2"
      },
      "execution_count": null,
      "outputs": [
        {
          "output_type": "stream",
          "name": "stderr",
          "text": [
            "/usr/local/lib/python3.10/dist-packages/xgboost/sklearn.py:835: UserWarning: `callbacks` in `fit` method is deprecated for better compatibility with scikit-learn, use `callbacks` in constructor or`set_params` instead.\n",
            "  warnings.warn(\n"
          ]
        },
        {
          "output_type": "stream",
          "name": "stdout",
          "text": [
            "XGBoost Classifier accuracy: 97.61%\n"
          ]
        },
        {
          "output_type": "display_data",
          "data": {
            "text/plain": [
              "<Figure size 1000x800 with 2 Axes>"
            ],
            "image/png": "[encoded data removed]"
          },
          "metadata": {}
        }
      ]
    }
  ]
}